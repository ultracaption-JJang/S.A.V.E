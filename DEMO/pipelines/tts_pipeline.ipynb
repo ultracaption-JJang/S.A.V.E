{
 "cells": [
  {
   "cell_type": "markdown",
   "metadata": {},
   "source": [
    "# 0. 패키지 install"
   ]
  },
  {
   "cell_type": "code",
   "execution_count": 1,
   "metadata": {},
   "outputs": [
    {
     "name": "stdout",
     "output_type": "stream",
     "text": [
      "Collecting gtts\n",
      "  Downloading gTTS-2.5.3-py3-none-any.whl.metadata (4.1 kB)\n",
      "Requirement already satisfied: requests<3,>=2.27 in c:\\users\\owner\\miniconda3\\envs\\clip_env\\lib\\site-packages (from gtts) (2.32.3)\n",
      "Requirement already satisfied: click<8.2,>=7.1 in c:\\users\\owner\\miniconda3\\envs\\clip_env\\lib\\site-packages (from gtts) (8.1.7)\n",
      "Requirement already satisfied: colorama in c:\\users\\owner\\appdata\\roaming\\python\\python39\\site-packages (from click<8.2,>=7.1->gtts) (0.4.6)\n",
      "Requirement already satisfied: charset-normalizer<4,>=2 in c:\\users\\owner\\miniconda3\\envs\\clip_env\\lib\\site-packages (from requests<3,>=2.27->gtts) (3.3.2)\n",
      "Requirement already satisfied: idna<4,>=2.5 in c:\\users\\owner\\miniconda3\\envs\\clip_env\\lib\\site-packages (from requests<3,>=2.27->gtts) (3.7)\n",
      "Requirement already satisfied: urllib3<3,>=1.21.1 in c:\\users\\owner\\miniconda3\\envs\\clip_env\\lib\\site-packages (from requests<3,>=2.27->gtts) (2.2.3)\n",
      "Requirement already satisfied: certifi>=2017.4.17 in c:\\users\\owner\\miniconda3\\envs\\clip_env\\lib\\site-packages (from requests<3,>=2.27->gtts) (2024.8.30)\n",
      "Downloading gTTS-2.5.3-py3-none-any.whl (29 kB)\n",
      "Installing collected packages: gtts\n",
      "Successfully installed gtts-2.5.3\n"
     ]
    }
   ],
   "source": [
    "# !pip install gtts"
   ]
  },
  {
   "cell_type": "markdown",
   "metadata": {},
   "source": []
  },
  {
   "cell_type": "markdown",
   "metadata": {},
   "source": [
    "# 1. TTS Module"
   ]
  },
  {
   "cell_type": "code",
   "execution_count": 4,
   "metadata": {},
   "outputs": [],
   "source": [
    "from gtts import gTTS\n",
    "import os\n",
    "\n",
    "def speak(text, frame_count):\n",
    "    # 변환할 텍스트\n",
    "    text = \"안녕하세요, 이것은 gTTS를 이용한 예시입니다.\"\n",
    "\n",
    "    # TTS 객체 생성 (언어는 'ko'로 설정)\n",
    "    tts = gTTS(text=text, lang='ko')\n",
    "\n",
    "    # 음성 파일 저장 폴더\n",
    "    save_dir = \"./voices\"\n",
    "    if not os.path.exists(save_dir):\n",
    "        os.makedirs(save_dir)\n",
    "\n",
    "    # 음성 파일 저장\n",
    "    filename = os.path.join(save_dir, f\"mp3_{frame_count}.mp3\") # 프레임 번호에 따른 음성 생성\n",
    "    tts.save(filename)\n",
    "\n",
    "    # 저장된 음성 파일 재생 (플랫폼에 따라 다를 수 있음)\n",
    "    os.system(f\"start {filename}\")  # Windows에서는 'start', macOS에서는 'afplay', Linux에서는 'mpg321' 명령을 사용\n"
   ]
  },
  {
   "cell_type": "markdown",
   "metadata": {},
   "source": [
    "# 2. test"
   ]
  },
  {
   "cell_type": "code",
   "execution_count": 5,
   "metadata": {},
   "outputs": [],
   "source": [
    "speak(1,0)"
   ]
  },
  {
   "cell_type": "code",
   "execution_count": null,
   "metadata": {},
   "outputs": [],
   "source": []
  }
 ],
 "metadata": {
  "kernelspec": {
   "display_name": "clip_env",
   "language": "python",
   "name": "python3"
  },
  "language_info": {
   "codemirror_mode": {
    "name": "ipython",
    "version": 3
   },
   "file_extension": ".py",
   "mimetype": "text/x-python",
   "name": "python",
   "nbconvert_exporter": "python",
   "pygments_lexer": "ipython3",
   "version": "3.9.20"
  }
 },
 "nbformat": 4,
 "nbformat_minor": 2
}
