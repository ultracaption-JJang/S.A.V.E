{
  "cells": [
    {
      "cell_type": "markdown",
      "metadata": {
        "id": "qKeKaGX1ejJd"
      },
      "source": [
        "# 0.package install"
      ]
    },
    {
      "cell_type": "code",
      "execution_count": 1,
      "metadata": {
        "id": "f_cGi4dYkWVn"
      },
      "outputs": [],
      "source": [
        "# !pip install torch torchvision transformers pillow"
      ]
    },
    {
      "cell_type": "markdown",
      "metadata": {
        "id": "qGdk316KmFrV"
      },
      "source": [
        "# 1. captioning generation\n",
        "1) CLIP으로 이미지에서 특징을 추출합니다.  \n",
        "2) 추출된 이미지 특징을 GPT-2 모델에 입력합니다.  \n",
        "3) 생성된 텍스트를 확인합니다.  \n",
        "\n",
        "\n",
        "---\n",
        "앞으로 구현할 것  \n",
        "4) TTS 모델을 통해 생성된 텍스트를 음성으로 변환해줍니다.\n"
      ]
    },
    {
      "cell_type": "code",
      "execution_count": 8,
      "metadata": {
        "id": "m08fnKWmkbbL"
      },
      "outputs": [
        {
          "name": "stderr",
          "output_type": "stream",
          "text": [
            "The attention mask and the pad token id were not set. As a consequence, you may observe unexpected behavior. Please pass your input's `attention_mask` to obtain reliable results.\n",
            "Setting `pad_token_id` to `eos_token_id`:None for open-end generation.\n"
          ]
        },
        {
          "name": "stdout",
          "output_type": "stream",
          "text": [
            "Generated Caption: .\n",
            "\n",
            "\"I think it's a good idea,\" he said. \"I think it's a good idea. I think it's a\n"
          ]
        }
      ],
      "source": [
        "import torch\n",
        "from torchvision import transforms\n",
        "from PIL import Image\n",
        "from transformers import CLIPProcessor, CLIPModel, GPT2Tokenizer, GPT2LMHeadModel\n",
        "import requests\n",
        "\n",
        "# CLIP 모델 및 프로세서 로드\n",
        "clip_model = CLIPModel.from_pretrained(\"openai/clip-vit-base-patch16\")\n",
        "clip_processor = CLIPProcessor.from_pretrained(\"openai/clip-vit-base-patch16\")\n",
        "\n",
        "# GPT-2 모델 및 토크나이저 로드\n",
        "gpt2_model = GPT2LMHeadModel.from_pretrained(\"gpt2\")\n",
        "gpt2_tokenizer = GPT2Tokenizer.from_pretrained(\"gpt2\")\n",
        "\n",
        "# 이미지 로드 및 전처리\n",
        "def load_image(image_path):\n",
        "    # 이미지 로드 : 원하는 이미지로 바꿀 수 있어요\n",
        "    url = \"http://images.cocodataset.org/val2017/000000039769.jpg\"\n",
        "    image = Image. open(requests.get(url, stream=True).raw)\n",
        "    image\n",
        "    # image = Image.open(image_path)\n",
        "    return image\n",
        "\n",
        "# 이미지에서 특징 추출\n",
        "def extract_image_features(image_path):\n",
        "    image = load_image(image_path)\n",
        "    inputs = clip_processor(images=image, return_tensors=\"pt\")\n",
        "\n",
        "    with torch.no_grad():\n",
        "        features = clip_model.get_image_features(**inputs)\n",
        "    return features\n",
        "\n",
        "# 이미지 특징을 기반으로 캡션 생성\n",
        "def generate_caption_from_image(image_path):\n",
        "    # 이미지에서 특징 추출\n",
        "    image_features = extract_image_features(image_path)\n",
        "\n",
        "    # GPT-2 모델을 사용하여 캡션 생성\n",
        "    # 특징을 텍스트로 변환하기 위해 랜덤한 시작 문장을 사용합니다.\n",
        "    embedding_dim = gpt2_model.config.n_embd  # GPT-2의 임베딩 차원 (768)\n",
        "    linear_layer = torch.nn.Linear(image_features.size(-1), embedding_dim) #512 to 768\n",
        "\n",
        "    # 임베딩 차원 변환\n",
        "    transformed_embedding = linear_layer(image_features)\n",
        "\n",
        "\n",
        "    # GPT-2 모델로 캡션 생성\n",
        "    with torch.no_grad():\n",
        "        outputs = gpt2_model.generate(\n",
        "            inputs_embeds=transformed_embedding.unsqueeze(1),  # 임베딩 입력\n",
        "            max_length=30,  # 최대 30 토큰 생성\n",
        "            num_return_sequences=1,\n",
        "            num_beams=5,  # 빔 서치로 더 나은 결과 생성\n",
        "            early_stopping=True,\n",
        "            pad_token_id=gpt2_tokenizer.pad_token_id  # Pad token 설정\n",
        "        )\n",
        "    generated_caption = gpt2_tokenizer.decode(outputs[0], skip_special_tokens=True)\n",
        "    return generated_caption\n",
        "\n",
        "# 예시 이미지 경로\n",
        "image_path = \"path/to/your/image.jpg\"  # 사용할 이미지 경로로 수정\n",
        "\n",
        "# 캡션 생성\n",
        "generated_caption = generate_caption_from_image(image_path)\n",
        "print(\"Generated Caption:\", generated_caption)\n"
      ]
    },
    {
      "cell_type": "code",
      "execution_count": 4,
      "metadata": {},
      "outputs": [
        {
          "data": {
            "text/plain": [
              "tensor([[ 4.5713e-01, -4.8640e-01, -1.9568e-01, -5.6975e-01, -2.5177e-01,\n",
              "         -2.8290e-01,  8.3081e-02,  5.7664e-01,  6.8331e-02, -4.4531e-01,\n",
              "          7.0375e-02,  5.5453e-01,  1.9674e-01, -2.0233e-01, -1.9660e-01,\n",
              "         -3.7810e-01, -6.6563e-02,  3.7217e-01,  4.9867e-01, -1.2863e-01,\n",
              "          1.6052e-01, -3.5977e-01, -3.1558e-01, -5.1116e-01,  3.3640e-01,\n",
              "         -5.6602e-01,  3.7456e-02,  7.7821e-02,  1.0731e-01,  2.0796e-01,\n",
              "         -4.7783e-02, -8.8366e-02,  4.3023e-01, -2.0209e-01, -8.0026e-01,\n",
              "         -1.1896e-02,  7.8789e-01,  4.3005e-02,  1.8673e-01,  8.1532e-02,\n",
              "          2.1467e-01, -6.2337e-02,  4.4497e-01,  3.6166e-01, -1.2397e-01,\n",
              "         -2.8634e-01,  1.0754e-01,  6.2397e-01, -3.7212e-01, -1.3557e-02,\n",
              "         -1.6085e+00, -6.1973e-02,  1.8597e-01,  8.0334e-02, -1.2718e-01,\n",
              "         -7.3099e-01, -4.3036e-01, -3.0935e-02, -1.8170e-01, -4.8850e-03,\n",
              "          8.8081e-01, -1.5372e-01,  5.2346e-02, -6.4881e-02,  2.0808e-01,\n",
              "          1.8223e-02,  8.9313e-02, -1.6308e-01,  2.2989e-01, -2.2262e-01,\n",
              "          1.7346e-01, -2.3898e-01, -2.6318e-01, -2.6653e-01, -4.1208e-01,\n",
              "         -1.0248e-02, -3.0913e-01, -1.2684e-01,  3.6633e-01, -2.1657e-01,\n",
              "          3.0849e-02, -5.6009e-01, -8.3724e-01,  1.9255e-02,  2.0672e-01,\n",
              "          1.3673e-01,  2.2123e-01,  2.4107e-01, -4.2944e-01, -2.5651e-01,\n",
              "         -2.9251e-02, -1.3305e-01, -7.1822e-02,  6.6230e-02, -1.5132e-01,\n",
              "          1.3844e-01, -7.7455e-02,  3.2091e-01, -1.0896e-01, -6.9923e-02,\n",
              "         -8.7249e-03, -1.2725e-01,  9.7440e-02,  2.3236e-01, -1.8507e-01,\n",
              "         -1.5240e-01,  4.7234e-02,  3.4822e-01,  3.9651e-01, -5.0965e-01,\n",
              "         -2.9277e-01, -3.8219e-01,  1.3073e-01, -5.2128e-02,  3.6980e-01,\n",
              "         -4.4716e-01, -2.4074e-01, -4.3304e-01,  4.8614e-01,  2.8230e-01,\n",
              "          2.8201e-02, -6.0196e-01, -6.8689e-02, -1.1533e-01,  4.5898e-01,\n",
              "          2.4541e-01,  8.4340e-01, -1.1453e-03,  5.5116e-01, -5.6676e-02,\n",
              "         -1.6242e-01, -2.1418e-01,  4.6000e-01,  3.1525e-01,  4.7183e-01,\n",
              "         -7.9505e-02,  3.0407e-01, -4.8769e-01, -5.1791e-01,  3.8703e-01,\n",
              "          3.1418e-01, -5.2803e-01, -1.6862e-01, -1.0097e-01,  2.1668e-01,\n",
              "          2.6979e-01,  4.0906e-01, -4.4696e-01, -9.2917e-02,  2.5784e-01,\n",
              "         -1.3190e-01, -2.4253e-01, -6.0494e-02, -9.4011e-02,  3.9698e-01,\n",
              "         -8.8014e-02, -4.5372e-02,  8.6394e-01,  3.4422e-01, -1.6492e-01,\n",
              "         -2.5148e-01,  6.3077e-01, -4.5151e-01,  5.0778e-01, -6.9377e-02,\n",
              "         -4.0921e-01,  4.5893e-01,  6.3902e-02, -2.3455e-01, -2.1808e-01,\n",
              "         -4.9338e-01,  3.2499e-01, -3.4770e-01, -2.2107e-01,  1.1301e-01,\n",
              "          7.6708e-02, -2.5141e-01,  1.3032e-01,  1.8485e-01,  9.8378e-02,\n",
              "          3.3817e-02,  1.5170e-01,  1.3725e-01, -1.5718e-01,  1.5828e-01,\n",
              "          6.3428e-02,  1.3887e-01, -2.8317e-01, -5.3148e-01,  3.8253e-03,\n",
              "          3.7849e-01,  1.7874e-02, -9.4296e-02,  7.1116e-01,  2.3221e-01,\n",
              "          4.5994e-01,  4.5050e-01,  2.4620e-01,  5.1431e-03, -2.6972e-03,\n",
              "         -5.2258e-01,  4.5936e-02,  1.5464e-01,  8.8685e-01,  2.2991e-01,\n",
              "         -3.5704e-02,  8.3775e-02, -3.0008e-01,  5.8688e-01, -5.7914e-02,\n",
              "         -9.2005e-02,  3.0061e-01, -2.8473e-02, -9.2851e-02,  2.8661e-01,\n",
              "         -6.8019e-02,  5.4398e-02, -2.0794e-01, -3.8845e-02, -7.8722e-01,\n",
              "         -2.7491e-01,  4.5546e-02,  2.2835e-01, -3.2950e-01, -2.0207e-01,\n",
              "          6.7946e-02, -8.8613e-02,  2.2247e-01,  4.9004e-02,  1.4451e-01,\n",
              "         -2.1936e-01,  1.0019e-01, -1.7225e-01,  5.5142e-02, -4.9406e-02,\n",
              "         -1.6883e-01,  1.0276e-02,  1.6912e-01,  2.0134e-01,  1.9404e-02,\n",
              "          1.9084e-01, -9.2891e-02, -3.3885e-01,  8.5483e-02,  3.4105e-01,\n",
              "         -2.6883e-01, -2.4564e-01,  3.0815e-01, -9.8249e-02, -7.1661e-01,\n",
              "          4.3416e-01, -5.4506e-01,  4.6349e-01, -2.0112e-01,  1.6920e-02,\n",
              "         -3.9399e-01,  5.6112e-03,  5.0336e-01,  3.7994e-01,  3.0423e-01,\n",
              "         -1.1319e-01,  7.9992e-02,  5.7363e-01, -3.1480e-01,  1.1863e-01,\n",
              "         -1.0011e+00, -4.4926e-01, -1.6285e-01,  1.7948e-01, -4.4429e-01,\n",
              "          2.3627e-01,  4.7935e-01, -2.9965e-01, -4.1044e-01,  1.3777e-01,\n",
              "         -4.7311e-01, -3.1005e-01, -2.0889e-01,  1.7714e-01, -5.0156e-01,\n",
              "         -1.3869e+00, -4.0867e-01, -7.7860e-02,  5.5580e-01, -3.5838e-02,\n",
              "          3.6227e-01, -6.4559e-02, -2.7771e-01, -2.3823e-01, -1.1044e-01,\n",
              "         -3.3425e-01,  2.5992e-01, -6.7663e-01,  3.2474e-01,  2.4007e-01,\n",
              "         -2.3394e-01, -6.5165e-02,  5.6194e-01, -5.4334e-01, -1.5075e-01,\n",
              "         -3.1654e-03, -8.4609e-03, -2.6849e-01, -7.7690e-02, -7.4035e-03,\n",
              "          3.7009e-01,  1.4319e-01, -3.6589e-01, -9.8938e-02, -4.2237e-01,\n",
              "          4.5828e-01,  2.6682e-01,  6.6132e-01, -1.8862e-01,  5.8541e-01,\n",
              "          1.4183e-01, -6.9994e-02,  3.2480e-01,  3.9228e-01, -3.9494e-01,\n",
              "         -9.4297e-02,  1.3598e-01,  1.6413e-01,  1.1363e-01,  5.9933e-02,\n",
              "          3.3463e-01,  3.7713e-01,  7.6004e-03, -2.4755e-01,  2.4144e-01,\n",
              "         -1.2736e-01, -1.4014e-01,  6.9064e-01,  3.4685e-01,  2.6987e-01,\n",
              "         -5.1774e-01,  1.9801e-01,  2.6238e-01,  1.8873e-01,  2.0642e-01,\n",
              "          2.7714e-01,  7.9395e-02,  9.3292e-01,  1.5201e-01,  9.1748e-01,\n",
              "          3.5602e-01, -2.2134e-01, -5.5125e-02,  3.9291e-01,  1.3315e-01,\n",
              "          1.2063e+00,  5.0411e-01,  9.6419e-02,  1.5953e-01,  4.0375e-01,\n",
              "          3.0615e-01,  1.9162e-01, -1.8791e-01, -1.9866e-01,  1.4851e-01,\n",
              "          1.0236e-01, -1.2127e-01,  1.0354e+00,  6.8733e-01, -4.3647e-02,\n",
              "          4.6305e-01,  9.8228e-02, -2.0658e-01,  5.5550e-01,  2.6320e-01,\n",
              "         -2.8177e-01, -7.5647e-02, -3.9748e-01,  2.3603e-02,  1.0600e+00,\n",
              "          3.6834e-01,  7.4097e-01,  4.6011e-01, -5.7513e-01,  4.6814e-01,\n",
              "         -1.7518e-02, -1.6693e-01, -4.5598e-01,  4.1771e-01, -3.3154e-01,\n",
              "         -4.4298e-02,  3.4518e-01,  2.4809e-01, -3.0618e-01,  3.5914e-01,\n",
              "          1.3127e-01,  1.7815e-01,  2.3196e-01,  2.4469e-01,  1.4645e-01,\n",
              "          1.3770e-01,  5.6385e-03,  4.6220e-02,  3.8033e-01,  2.9828e-01,\n",
              "         -4.8582e-01, -3.0379e-01, -3.1359e-01,  1.2747e-02,  3.4034e-01,\n",
              "          1.5701e-01,  9.9896e-01,  1.2734e-01, -2.3181e-01, -2.6612e-02,\n",
              "          2.7603e-01, -2.6622e-01, -8.5638e-01, -6.6892e-01,  4.3107e-01,\n",
              "          7.5028e-02,  4.7124e-01, -2.5913e-01, -4.1392e-01,  7.6331e-02,\n",
              "          4.4743e-01, -1.6235e-01,  1.9530e-01, -9.7338e-02, -3.5160e-01,\n",
              "         -3.8394e-01,  5.2954e-01,  1.9824e-01,  1.6841e-01,  3.3399e-01,\n",
              "         -3.3524e-01, -1.4030e-01, -4.7042e-01,  3.6375e-01, -5.8304e-01,\n",
              "         -2.5046e-01,  5.1017e-01,  3.7931e-01, -1.3451e-02,  2.5199e-01,\n",
              "         -6.7989e-02, -4.8438e-01,  6.2753e+00,  2.6631e-01, -1.4089e-01,\n",
              "         -2.6353e-01,  4.9225e-01,  3.1080e-02, -4.9737e-01, -3.2523e-01,\n",
              "         -9.5240e-01, -3.0925e-01, -4.7240e-02, -4.3455e-02, -2.8299e-01,\n",
              "          2.2681e-02,  8.8349e-02,  1.0401e-01,  2.1680e-01, -1.1718e-01,\n",
              "         -1.1067e-01, -3.7358e-01, -3.3909e-01, -6.8731e-01,  7.3560e-02,\n",
              "         -1.5921e+00,  2.2925e-01, -1.4410e-02, -6.4823e-02,  2.3333e-01,\n",
              "          2.8348e-01, -2.1664e-02,  1.8786e-01,  1.4770e-01, -4.6170e-01,\n",
              "          1.1381e+00,  3.3383e-01, -4.2366e-02, -3.7686e-01, -1.6367e-01,\n",
              "          6.9504e-01,  1.8121e-01,  1.0285e-01, -8.3339e-02,  9.5112e-02,\n",
              "          2.9785e-01,  1.0049e-01,  2.2516e-01, -1.5901e-01, -2.2337e-01,\n",
              "          1.6664e-01,  3.9604e-01, -2.4131e-01,  5.7840e-01,  3.4914e-01,\n",
              "         -3.7718e-03,  1.5482e-01, -2.5807e-01, -1.2048e-02,  4.0430e-01,\n",
              "         -1.9257e-01, -3.7403e-01, -4.8872e-01,  3.6705e-04, -3.7658e-01,\n",
              "          4.7094e-01,  1.1151e-01,  7.1713e-02,  2.0807e-01,  2.3991e-01,\n",
              "         -1.1447e-02, -7.6626e-03]])"
            ]
          },
          "execution_count": 4,
          "metadata": {},
          "output_type": "execute_result"
        }
      ],
      "source": [
        "image_features = extract_image_features(image_path)\n",
        "image_features"
      ]
    },
    {
      "cell_type": "code",
      "execution_count": 5,
      "metadata": {},
      "outputs": [
        {
          "data": {
            "text/plain": [
              "torch.Size([1, 512])"
            ]
          },
          "execution_count": 5,
          "metadata": {},
          "output_type": "execute_result"
        }
      ],
      "source": [
        "image_features.shape"
      ]
    },
    {
      "cell_type": "code",
      "execution_count": 6,
      "metadata": {},
      "outputs": [
        {
          "data": {
            "text/plain": [
              "768"
            ]
          },
          "execution_count": 6,
          "metadata": {},
          "output_type": "execute_result"
        }
      ],
      "source": [
        "gpt2_model.config.n_embd "
      ]
    },
    {
      "cell_type": "code",
      "execution_count": null,
      "metadata": {
        "id": "i-B1eVAMldiH"
      },
      "outputs": [],
      "source": [
        "url = \"http://images.cocodataset.org/val2017/000000039769.jpg\"\n",
        "image = Image. open(requests.get(url, stream=True).raw)\n",
        "image"
      ]
    },
    {
      "cell_type": "code",
      "execution_count": null,
      "metadata": {
        "id": "eE77MUGilgSH"
      },
      "outputs": [],
      "source": []
    }
  ],
  "metadata": {
    "colab": {
      "private_outputs": true,
      "provenance": []
    },
    "kernelspec": {
      "display_name": "Python 3",
      "name": "python3"
    },
    "language_info": {
      "codemirror_mode": {
        "name": "ipython",
        "version": 3
      },
      "file_extension": ".py",
      "mimetype": "text/x-python",
      "name": "python",
      "nbconvert_exporter": "python",
      "pygments_lexer": "ipython3",
      "version": "3.9.20"
    }
  },
  "nbformat": 4,
  "nbformat_minor": 0
}
