{
 "cells": [
  {
   "cell_type": "code",
   "execution_count": 1,
   "metadata": {
    "colab": {
     "base_uri": "https://localhost:8080/"
    },
    "executionInfo": {
     "elapsed": 4538,
     "status": "ok",
     "timestamp": 1730444175695,
     "user": {
      "displayName": "heejung choo",
      "userId": "08423628578861440795"
     },
     "user_tz": -540
    },
    "id": "xz2Cz9hpeFLB",
    "outputId": "30b25def-5b53-4ed2-e894-f1d279f0808c"
   },
   "outputs": [],
   "source": [
    "#pip install plotly\n"
   ]
  },
  {
   "cell_type": "code",
   "execution_count": 2,
   "metadata": {
    "executionInfo": {
     "elapsed": 592,
     "status": "ok",
     "timestamp": 1730444776877,
     "user": {
      "displayName": "heejung choo",
      "userId": "08423628578861440795"
     },
     "user_tz": -540
    },
    "id": "cBC93Ak1fLIk"
   },
   "outputs": [],
   "source": [
    "label_dir = '/content/drive/MyDrive/yolo11data/unzipped_files/yolo_split/train'"
   ]
  },
  {
   "cell_type": "code",
   "execution_count": 3,
   "metadata": {
    "colab": {
     "base_uri": "https://localhost:8080/",
     "height": 573
    },
    "executionInfo": {
     "elapsed": 75188,
     "status": "ok",
     "timestamp": 1730444101243,
     "user": {
      "displayName": "heejung choo",
      "userId": "08423628578861440795"
     },
     "user_tz": -540
    },
    "id": "H4zQTyghfPrR",
    "outputId": "7c09267e-2979-42b3-88ec-d78e2ee966bc"
   },
   "outputs": [
    {
     "ename": "FileNotFoundError",
     "evalue": "[WinError 3] 지정된 경로를 찾을 수 없습니다: '/content/drive/MyDrive/yolo11data/unzipped_files/yolo_split/train'",
     "output_type": "error",
     "traceback": [
      "\u001b[1;31m---------------------------------------------------------------------------\u001b[0m",
      "\u001b[1;31mFileNotFoundError\u001b[0m                         Traceback (most recent call last)",
      "Cell \u001b[1;32mIn[3], line 12\u001b[0m\n\u001b[0;32m      9\u001b[0m class_ids \u001b[38;5;241m=\u001b[39m []\n\u001b[0;32m     11\u001b[0m \u001b[38;5;66;03m# 모든 라벨 파일을 반복하면서 클래스 ID 수집\u001b[39;00m\n\u001b[1;32m---> 12\u001b[0m \u001b[38;5;28;01mfor\u001b[39;00m label_file \u001b[38;5;129;01min\u001b[39;00m os\u001b[38;5;241m.\u001b[39mlistdir(label_dir):\n\u001b[0;32m     13\u001b[0m     \u001b[38;5;28;01mif\u001b[39;00m label_file\u001b[38;5;241m.\u001b[39mendswith(\u001b[38;5;124m'\u001b[39m\u001b[38;5;124m.txt\u001b[39m\u001b[38;5;124m'\u001b[39m):\n\u001b[0;32m     14\u001b[0m         \u001b[38;5;28;01mwith\u001b[39;00m \u001b[38;5;28mopen\u001b[39m(os\u001b[38;5;241m.\u001b[39mpath\u001b[38;5;241m.\u001b[39mjoin(label_dir, label_file), \u001b[38;5;124m'\u001b[39m\u001b[38;5;124mr\u001b[39m\u001b[38;5;124m'\u001b[39m) \u001b[38;5;28;01mas\u001b[39;00m file:\n",
      "\u001b[1;31mFileNotFoundError\u001b[0m: [WinError 3] 지정된 경로를 찾을 수 없습니다: '/content/drive/MyDrive/yolo11data/unzipped_files/yolo_split/train'"
     ]
    }
   ],
   "source": [
    "import os\n",
    "import pandas as pd\n",
    "import matplotlib.pyplot as plt\n",
    "\n",
    "# 라벨 파일이 저장된 디렉터리 경로\n",
    "\n",
    "\n",
    "# 클래스 ID 저장 리스트 초기화\n",
    "class_ids = []\n",
    "\n",
    "# 모든 라벨 파일을 반복하면서 클래스 ID 수집\n",
    "for label_file in os.listdir(label_dir):\n",
    "    if label_file.endswith('.txt'):\n",
    "        with open(os.path.join(label_dir, label_file), 'r') as file:\n",
    "            for line in file:\n",
    "                # 라벨 파일의 각 줄에서 클래스 ID 추출\n",
    "                class_id = line.split()[0]  # 클래스 ID는 각 줄의 첫 번째 값\n",
    "                class_ids.append(class_id)\n",
    "\n",
    "# 클래스 ID 분포를 데이터프레임으로 정리\n",
    "df = pd.DataFrame(class_ids, columns=['class_id'])\n",
    "class_distribution = df['class_id'].value_counts()\n",
    "\n",
    "# 클래스 분포 시각화\n",
    "plt.figure(figsize=(10, 6))\n",
    "class_distribution.plot(kind='bar', color='skyblue')\n",
    "plt.title('Class Distribution')\n",
    "plt.xlabel('Class ID')\n",
    "plt.ylabel('Count')\n",
    "plt.xticks(rotation=45)\n",
    "plt.show()\n"
   ]
  },
  {
   "cell_type": "code",
   "execution_count": null,
   "metadata": {
    "colab": {
     "base_uri": "https://localhost:8080/",
     "height": 542
    },
    "executionInfo": {
     "elapsed": 23297,
     "status": "ok",
     "timestamp": 1730444225502,
     "user": {
      "displayName": "heejung choo",
      "userId": "08423628578861440795"
     },
     "user_tz": -540
    },
    "id": "P-OSbEIQgF5X",
    "outputId": "1acf9a65-6aaa-4068-87ba-1c1a64e87375"
   },
   "outputs": [],
   "source": [
    "import os\n",
    "import pandas as pd\n",
    "import plotly.express as px\n",
    "\n",
    "# 라벨 파일이 저장된 디렉터리 경로\n",
    "\n",
    "\n",
    "# 클래스 ID 저장 리스트 초기화\n",
    "class_ids = []\n",
    "\n",
    "# 모든 라벨 파일을 반복하면서 클래스 ID 수집\n",
    "for label_file in os.listdir(label_dir):\n",
    "    if label_file.endswith('.txt'):\n",
    "        with open(os.path.join(label_dir, label_file), 'r') as file:\n",
    "            for line in file:\n",
    "                # 비어 있지 않은 줄만 처리\n",
    "                if line.strip():  # 공백 제거 후 내용이 있는지 확인\n",
    "                    class_id = line.split()[0]  # 클래스 ID는 각 줄의 첫 번째 값\n",
    "                    class_ids.append(class_id)\n",
    "\n",
    "# 클래스 ID 분포를 데이터프레임으로 정리\n",
    "df = pd.DataFrame(class_ids, columns=['class_id'])\n",
    "class_distribution = df['class_id'].value_counts().reset_index()\n",
    "class_distribution.columns = ['class_id', 'count']  # 컬럼 이름 변경\n",
    "\n",
    "# Plotly를 이용해 클래스 분포 시각화\n",
    "fig = px.bar(class_distribution, x='class_id', y='count', title='Class Distribution',\n",
    "             labels={'class_id': 'Class ID', 'count': 'Count'}, color='count', color_continuous_scale='Blues')\n",
    "fig.update_layout(xaxis=dict(tickangle=45))  # x축 레이블 각도 조정\n",
    "fig.show()\n"
   ]
  },
  {
   "cell_type": "code",
   "execution_count": null,
   "metadata": {
    "colab": {
     "base_uri": "https://localhost:8080/",
     "height": 542
    },
    "executionInfo": {
     "elapsed": 23378,
     "status": "ok",
     "timestamp": 1730444611471,
     "user": {
      "displayName": "heejung choo",
      "userId": "08423628578861440795"
     },
     "user_tz": -540
    },
    "id": "WMO5m-mSgsIH",
    "outputId": "27238c5c-fe64-4dd1-d2c4-18f7b6a185f1"
   },
   "outputs": [],
   "source": [
    "import os\n",
    "import pandas as pd\n",
    "import plotly.express as px\n",
    "\n",
    "# 라벨 파일이 저장된 디렉터리 경로\n",
    "\n",
    "\n",
    "# 클래스 ID 저장 리스트 초기화\n",
    "class_ids = []\n",
    "\n",
    "# 모든 라벨 파일을 반복하면서 클래스 ID 수집\n",
    "for label_file in os.listdir(label_dir):\n",
    "    if label_file.endswith('.txt'):\n",
    "        with open(os.path.join(label_dir, label_file), 'r') as file:\n",
    "            for line in file:\n",
    "                # 비어 있지 않은 줄만 처리\n",
    "                if line.strip():  # 공백 제거 후 내용이 있는지 확인\n",
    "                    class_id = line.split()[0]  # 클래스 ID는 각 줄의 첫 번째 값\n",
    "                    class_ids.append(class_id)\n",
    "\n",
    "# 클래스 ID 분포를 데이터프레임으로 정리\n",
    "df = pd.DataFrame(class_ids, columns=['class_id'])\n",
    "class_distribution = df.groupby('class_id').size().reset_index(name='count')\n",
    "\n",
    "# Plotly를 이용해 클래스 분포 시각화\n",
    "fig = px.bar(class_distribution, x='class_id', y='count', title='Class Distribution',\n",
    "             labels={'class_id': 'Class ID', 'count': 'Count'}, color='count', color_continuous_scale='Blues')\n",
    "fig.update_layout(xaxis=dict(tickangle=45))  # x축 레이블 각도 조정\n",
    "fig.show()\n"
   ]
  },
  {
   "cell_type": "code",
   "execution_count": null,
   "metadata": {
    "colab": {
     "base_uri": "https://localhost:8080/",
     "height": 542
    },
    "executionInfo": {
     "elapsed": 17964,
     "status": "ok",
     "timestamp": 1730444732790,
     "user": {
      "displayName": "heejung choo",
      "userId": "08423628578861440795"
     },
     "user_tz": -540
    },
    "id": "q9NU1OVNiPHc",
    "outputId": "f508fbea-17db-4deb-8034-37da8fbd1d6d"
   },
   "outputs": [],
   "source": [
    "import os\n",
    "import pandas as pd\n",
    "import plotly.express as px\n",
    "\n",
    "# 라벨 파일이 저장된 디렉터리 경로\n",
    "\n",
    "\n",
    "# 클래스 ID 저장 리스트 초기화\n",
    "class_ids = []\n",
    "\n",
    "# 모든 라벨 파일을 반복하면서 클래스 ID 수집\n",
    "for label_file in os.listdir(label_dir):\n",
    "    if label_file.endswith('.txt'):\n",
    "        with open(os.path.join(label_dir, label_file), 'r') as file:\n",
    "            for line in file:\n",
    "                if line.strip():  # 비어 있지 않은 줄만 처리\n",
    "                    class_id = line.split()[0]  # 클래스 ID는 각 줄의 첫 번째 값\n",
    "                    class_ids.append(class_id)\n",
    "\n",
    "# 클래스 ID 분포를 데이터프레임으로 정리\n",
    "df = pd.DataFrame(class_ids, columns=['class_id'])\n",
    "class_distribution = df['class_id'].value_counts(normalize=True).reset_index()\n",
    "class_distribution.columns = ['class_id', 'percentage']\n",
    "\n",
    "# 백분율로 변환\n",
    "class_distribution['percentage'] *= 100\n",
    "\n",
    "# Plotly를 이용해 클래스 비율 분포 시각화\n",
    "fig = px.bar(class_distribution, x='class_id', y='percentage', title='Class Distribution (Percentage)',\n",
    "             labels={'class_id': 'Class ID', 'percentage': 'Percentage (%)'}, color='percentage', color_continuous_scale='Blues')\n",
    "fig.update_layout(xaxis=dict(tickangle=45))  # x축 레이블 각도 조정\n",
    "fig.show()\n"
   ]
  },
  {
   "cell_type": "code",
   "execution_count": null,
   "metadata": {
    "colab": {
     "base_uri": "https://localhost:8080/",
     "height": 542
    },
    "executionInfo": {
     "elapsed": 2626,
     "status": "ok",
     "timestamp": 1730444785783,
     "user": {
      "displayName": "heejung choo",
      "userId": "08423628578861440795"
     },
     "user_tz": -540
    },
    "id": "0VhaMQpHiqc_",
    "outputId": "2fbb7547-d7eb-494e-f7cd-675ff73b4043"
   },
   "outputs": [],
   "source": [
    "import os\n",
    "import pandas as pd\n",
    "import plotly.express as px\n",
    "\n",
    "# 라벨 파일이 저장된 디렉터리 경로\n",
    "\n",
    "\n",
    "# 클래스 ID 저장 리스트 초기화\n",
    "class_ids = []\n",
    "\n",
    "# 모든 라벨 파일을 반복하면서 클래스 ID 수집\n",
    "for label_file in os.listdir(label_dir):\n",
    "    if label_file.endswith('.txt'):\n",
    "        with open(os.path.join(label_dir, label_file), 'r') as file:\n",
    "            for line in file:\n",
    "                if line.strip():  # 비어 있지 않은 줄만 처리\n",
    "                    class_id = line.split()[0]  # 클래스 ID는 각 줄의 첫 번째 값\n",
    "                    class_ids.append(class_id)\n",
    "\n",
    "# 클래스 ID 분포를 데이터프레임으로 정리\n",
    "df = pd.DataFrame(class_ids, columns=['class_id'])\n",
    "class_distribution = df.groupby('class_id').size().reset_index(name='count')\n",
    "\n",
    "# 각 클래스의 비율 계산\n",
    "total_count = class_distribution['count'].sum()\n",
    "class_distribution['percentage'] = (class_distribution['count'] / total_count) * 100\n",
    "\n",
    "# Plotly를 이용해 클래스 비율 분포 시각화\n",
    "fig = px.bar(class_distribution, x='class_id', y='percentage', title='Class Distribution (Percentage)',\n",
    "             labels={'class_id': 'Class ID', 'percentage': 'Percentage (%)'}, color='percentage', color_continuous_scale='Blues')\n",
    "fig.update_layout(xaxis=dict(tickangle=45))  # x축 레이블 각도 조정\n",
    "fig.show()\n"
   ]
  },
  {
   "cell_type": "code",
   "execution_count": 4,
   "metadata": {
    "colab": {
     "base_uri": "https://localhost:8080/",
     "height": 542
    },
    "executionInfo": {
     "elapsed": 28450,
     "status": "ok",
     "timestamp": 1730445106801,
     "user": {
      "displayName": "heejung choo",
      "userId": "08423628578861440795"
     },
     "user_tz": -540
    },
    "id": "VcRfFB3Ci6Mv",
    "outputId": "99243b9f-daba-45e9-e57f-9d5c1df2dda9"
   },
   "outputs": [
    {
     "ename": "FileNotFoundError",
     "evalue": "[WinError 3] 지정된 경로를 찾을 수 없습니다: '/content/drive/MyDrive/yolo11data/unzipped_files/yolo_split\\\\train'",
     "output_type": "error",
     "traceback": [
      "\u001b[1;31m---------------------------------------------------------------------------\u001b[0m",
      "\u001b[1;31mFileNotFoundError\u001b[0m                         Traceback (most recent call last)",
      "Cell \u001b[1;32mIn[4], line 29\u001b[0m\n\u001b[0;32m     27\u001b[0m \u001b[38;5;66;03m# 각 폴더(train, val, test)의 클래스 카운트 수집\u001b[39;00m\n\u001b[0;32m     28\u001b[0m \u001b[38;5;28;01mfor\u001b[39;00m split \u001b[38;5;129;01min\u001b[39;00m [\u001b[38;5;124m'\u001b[39m\u001b[38;5;124mtrain\u001b[39m\u001b[38;5;124m'\u001b[39m, \u001b[38;5;124m'\u001b[39m\u001b[38;5;124mval\u001b[39m\u001b[38;5;124m'\u001b[39m, \u001b[38;5;124m'\u001b[39m\u001b[38;5;124mtest\u001b[39m\u001b[38;5;124m'\u001b[39m]:\n\u001b[1;32m---> 29\u001b[0m     split_counts \u001b[38;5;241m=\u001b[39m collect_class_counts(split)\n\u001b[0;32m     31\u001b[0m     \u001b[38;5;66;03m# 데이터프레임에 클래스 ID와 해당 카운트 추가\u001b[39;00m\n\u001b[0;32m     32\u001b[0m     \u001b[38;5;28;01mfor\u001b[39;00m class_id \u001b[38;5;129;01min\u001b[39;00m split_counts\u001b[38;5;241m.\u001b[39mindex:\n",
      "Cell \u001b[1;32mIn[4], line 16\u001b[0m, in \u001b[0;36mcollect_class_counts\u001b[1;34m(split)\u001b[0m\n\u001b[0;32m     13\u001b[0m split_dir \u001b[38;5;241m=\u001b[39m os\u001b[38;5;241m.\u001b[39mpath\u001b[38;5;241m.\u001b[39mjoin(base_dir, split)\n\u001b[0;32m     14\u001b[0m class_ids \u001b[38;5;241m=\u001b[39m []\n\u001b[1;32m---> 16\u001b[0m \u001b[38;5;28;01mfor\u001b[39;00m label_file \u001b[38;5;129;01min\u001b[39;00m os\u001b[38;5;241m.\u001b[39mlistdir(split_dir):\n\u001b[0;32m     17\u001b[0m     \u001b[38;5;28;01mif\u001b[39;00m label_file\u001b[38;5;241m.\u001b[39mendswith(\u001b[38;5;124m'\u001b[39m\u001b[38;5;124m.txt\u001b[39m\u001b[38;5;124m'\u001b[39m):\n\u001b[0;32m     18\u001b[0m         \u001b[38;5;28;01mwith\u001b[39;00m \u001b[38;5;28mopen\u001b[39m(os\u001b[38;5;241m.\u001b[39mpath\u001b[38;5;241m.\u001b[39mjoin(split_dir, label_file), \u001b[38;5;124m'\u001b[39m\u001b[38;5;124mr\u001b[39m\u001b[38;5;124m'\u001b[39m) \u001b[38;5;28;01mas\u001b[39;00m file:\n",
      "\u001b[1;31mFileNotFoundError\u001b[0m: [WinError 3] 지정된 경로를 찾을 수 없습니다: '/content/drive/MyDrive/yolo11data/unzipped_files/yolo_split\\\\train'"
     ]
    }
   ],
   "source": [
    "import os\n",
    "import pandas as pd\n",
    "import plotly.express as px\n",
    "\n",
    "# 데이터가 저장된 상위 디렉터리 경로\n",
    "base_dir = '/content/drive/MyDrive/yolo11data/unzipped_files/yolo_split'  # train, val, test 폴더가 포함된 경로\n",
    "\n",
    "# 클래스 분포를 저장할 리스트 초기화\n",
    "data = []\n",
    "\n",
    "# 각 데이터셋 폴더별로 클래스 카운트를 수집하는 함수\n",
    "def collect_class_counts(split):\n",
    "    split_dir = os.path.join(base_dir, split)\n",
    "    class_ids = []\n",
    "\n",
    "    for label_file in os.listdir(split_dir):\n",
    "        if label_file.endswith('.txt'):\n",
    "            with open(os.path.join(split_dir, label_file), 'r') as file:\n",
    "                for line in file:\n",
    "                    if line.strip():  # 비어 있지 않은 줄만 처리\n",
    "                        class_id = line.split()[0]  # 클래스 ID는 각 줄의 첫 번째 값\n",
    "                        class_ids.append(class_id)\n",
    "\n",
    "    # 클래스별 카운트 계산\n",
    "    return pd.Series(class_ids).value_counts()\n",
    "\n",
    "# 각 폴더(train, val, test)의 클래스 카운트 수집\n",
    "for split in ['train', 'val', 'test']:\n",
    "    split_counts = collect_class_counts(split)\n",
    "\n",
    "    # 데이터프레임에 클래스 ID와 해당 카운트 추가\n",
    "    for class_id in split_counts.index:\n",
    "        data.append({'class_id': class_id, 'count': split_counts[class_id], 'split': split})\n",
    "\n",
    "# 최종 데이터프레임 생성\n",
    "df = pd.DataFrame(data)\n",
    "\n",
    "# 각 클래스별로 카운트를 더하여 동일한 클래스끼리 합치기\n",
    "df_pivot = df.pivot_table(index='class_id', columns='split', values='count', fill_value=0)\n",
    "\n",
    "# 비율로 변환\n",
    "df_pivot['total'] = df_pivot.sum(axis=1)\n",
    "df_pivot['train_percentage'] = (df_pivot['train'] / df_pivot['total']) * 100\n",
    "df_pivot['val_percentage'] = (df_pivot['val'] / df_pivot['total']) * 100\n",
    "df_pivot['test_percentage'] = (df_pivot['test'] / df_pivot['total']) * 100\n",
    "\n",
    "# 비율 데이터프레임 생성\n",
    "percentage_data = df_pivot[['train_percentage', 'val_percentage', 'test_percentage']].reset_index()\n",
    "\n",
    "# Plotly를 이용한 시각화\n",
    "fig = px.bar(percentage_data, x='class_id',\n",
    "             y=['train_percentage', 'val_percentage', 'test_percentage'],\n",
    "             title='Class Distribution Across Train, Val, and Test Sets (Percentage)',\n",
    "             labels={'value': 'Percentage (%)', 'variable': 'Dataset', 'class_id': 'Class ID'},\n",
    "             barmode='group')\n",
    "fig.update_layout(xaxis=dict(tickangle=45))  # x축 레이블 각도 조정\n",
    "fig.show()\n"
   ]
  },
  {
   "cell_type": "code",
   "execution_count": null,
   "metadata": {
    "colab": {
     "base_uri": "https://localhost:8080/",
     "height": 542
    },
    "executionInfo": {
     "elapsed": 3481,
     "status": "ok",
     "timestamp": 1730445199448,
     "user": {
      "displayName": "heejung choo",
      "userId": "08423628578861440795"
     },
     "user_tz": -540
    },
    "id": "nDW8ArEVkGzK",
    "outputId": "5eb92384-5185-42d9-f298-b448dfb71367"
   },
   "outputs": [],
   "source": [
    "import os\n",
    "import pandas as pd\n",
    "import plotly.express as px\n",
    "\n",
    "# 데이터가 저장된 상위 디렉터리 경로\n",
    "base_dir = '/content/drive/MyDrive/yolo11data/unzipped_files/yolo_split'  # train, val, test 폴더가 포함된 경로\n",
    "\n",
    "# 클래스 분포를 저장할 리스트 초기화\n",
    "data = []\n",
    "\n",
    "# 각 데이터셋 폴더별로 클래스 카운트를 수집하는 함수\n",
    "def collect_class_counts(split):\n",
    "    split_dir = os.path.join(base_dir, split)\n",
    "    class_ids = []\n",
    "\n",
    "    for label_file in os.listdir(split_dir):\n",
    "        if label_file.endswith('.txt'):\n",
    "            with open(os.path.join(split_dir, label_file), 'r') as file:\n",
    "                for line in file:\n",
    "                    if line.strip():  # 비어 있지 않은 줄만 처리\n",
    "                        class_id = line.split()[0]  # 클래스 ID는 각 줄의 첫 번째 값\n",
    "                        class_ids.append(class_id)\n",
    "\n",
    "    # 클래스별 카운트 계산\n",
    "    return pd.Series(class_ids).value_counts()\n",
    "\n",
    "# 각 폴더(train, val, test)의 클래스 카운트 수집\n",
    "for split in ['train', 'val', 'test']:\n",
    "    split_counts = collect_class_counts(split)\n",
    "\n",
    "    # 데이터프레임에 클래스 ID와 해당 카운트 추가\n",
    "    for class_id in split_counts.index:\n",
    "        data.append({'class_id': class_id, 'count': split_counts[class_id], 'split': split})\n",
    "\n",
    "# 최종 데이터프레임 생성\n",
    "df = pd.DataFrame(data)\n",
    "\n",
    "# Plotly를 이용한 시각화\n",
    "fig = px.bar(df, x='class_id', y='count', color='split',\n",
    "             title='Class Distribution Across Train, Val, and Test Sets',\n",
    "             labels={'count': 'Count', 'class_id': 'Class ID'},\n",
    "             barmode='group')\n",
    "fig.update_layout(xaxis=dict(tickangle=45))  # x축 레이블 각도 조정\n",
    "fig.show()\n"
   ]
  },
  {
   "cell_type": "code",
   "execution_count": null,
   "metadata": {
    "colab": {
     "base_uri": "https://localhost:8080/",
     "height": 542
    },
    "executionInfo": {
     "elapsed": 19558,
     "status": "ok",
     "timestamp": 1730445297984,
     "user": {
      "displayName": "heejung choo",
      "userId": "08423628578861440795"
     },
     "user_tz": -540
    },
    "id": "KClpH2T5kjhF",
    "outputId": "4317faea-8c1a-44e6-c0bc-bd1aa4e4c1af"
   },
   "outputs": [],
   "source": [
    "import os\n",
    "import pandas as pd\n",
    "import plotly.express as px\n",
    "\n",
    "# 데이터가 저장된 상위 디렉터리 경로\n",
    "base_dir = '/content/drive/MyDrive/yolo11data/unzipped_files/yolo_split'  # train, val, test 폴더가 포함된 경로\n",
    "\n",
    "# 클래스 분포를 저장할 리스트 초기화\n",
    "data = []\n",
    "\n",
    "# 각 데이터셋 폴더별로 클래스 카운트를 수집하는 함수\n",
    "def collect_class_counts(split):\n",
    "    split_dir = os.path.join(base_dir, split)\n",
    "    class_ids = []\n",
    "\n",
    "    for label_file in os.listdir(split_dir):\n",
    "        if label_file.endswith('.txt'):\n",
    "            with open(os.path.join(split_dir, label_file), 'r') as file:\n",
    "                for line in file:\n",
    "                    if line.strip():  # 비어 있지 않은 줄만 처리\n",
    "                        class_id = line.split()[0]  # 클래스 ID는 각 줄의 첫 번째 값\n",
    "                        class_ids.append(class_id)\n",
    "\n",
    "    # 클래스별 카운트 계산\n",
    "    return pd.Series(class_ids).value_counts()\n",
    "\n",
    "# 각 폴더(train, val, test)의 클래스 카운트 수집\n",
    "for split in ['train', 'val', 'test']:\n",
    "    split_counts = collect_class_counts(split)\n",
    "\n",
    "    # 데이터프레임에 클래스 ID와 해당 카운트 추가\n",
    "    for class_id in split_counts.index:\n",
    "        data.append({'class_id': class_id, 'count': split_counts[class_id], 'split': split})\n",
    "\n",
    "# 최종 데이터프레임 생성\n",
    "df = pd.DataFrame(data)\n",
    "\n",
    "# 클래스 ID를 정수형으로 변환 후 정렬\n",
    "df['class_id'] = df['class_id'].astype(int)\n",
    "df = df.sort_values('class_id')\n",
    "\n",
    "# Plotly를 이용한 시각화\n",
    "fig = px.bar(df, x='class_id', y='count', color='split',\n",
    "             title='Class Distribution Across Train, Val, and Test Sets',\n",
    "             labels={'count': 'Count', 'class_id': 'Class ID'},\n",
    "             barmode='group')\n",
    "fig.update_layout(xaxis=dict(tickangle=45))  # x축 레이블 각도 조정\n",
    "fig.show()\n"
   ]
  },
  {
   "cell_type": "code",
   "execution_count": 5,
   "metadata": {
    "colab": {
     "base_uri": "https://localhost:8080/",
     "height": 542
    },
    "executionInfo": {
     "elapsed": 3672,
     "status": "ok",
     "timestamp": 1730445374337,
     "user": {
      "displayName": "heejung choo",
      "userId": "08423628578861440795"
     },
     "user_tz": -540
    },
    "id": "ANhj39HDk3p4",
    "outputId": "53cc5b66-13c0-469a-8e73-e8a44273f13c"
   },
   "outputs": [
    {
     "ename": "FileNotFoundError",
     "evalue": "[WinError 3] 지정된 경로를 찾을 수 없습니다: '/content/drive/MyDrive/yolo11data/unzipped_files/yolo_split\\\\train'",
     "output_type": "error",
     "traceback": [
      "\u001b[1;31m---------------------------------------------------------------------------\u001b[0m",
      "\u001b[1;31mFileNotFoundError\u001b[0m                         Traceback (most recent call last)",
      "Cell \u001b[1;32mIn[5], line 29\u001b[0m\n\u001b[0;32m     27\u001b[0m \u001b[38;5;66;03m# 각 폴더(train, val, test)의 클래스 카운트 수집\u001b[39;00m\n\u001b[0;32m     28\u001b[0m \u001b[38;5;28;01mfor\u001b[39;00m split \u001b[38;5;129;01min\u001b[39;00m [\u001b[38;5;124m'\u001b[39m\u001b[38;5;124mtrain\u001b[39m\u001b[38;5;124m'\u001b[39m, \u001b[38;5;124m'\u001b[39m\u001b[38;5;124mval\u001b[39m\u001b[38;5;124m'\u001b[39m, \u001b[38;5;124m'\u001b[39m\u001b[38;5;124mtest\u001b[39m\u001b[38;5;124m'\u001b[39m]:\n\u001b[1;32m---> 29\u001b[0m     split_counts \u001b[38;5;241m=\u001b[39m collect_class_counts(split)\n\u001b[0;32m     31\u001b[0m     \u001b[38;5;66;03m# 데이터프레임에 클래스 ID와 해당 카운트 추가\u001b[39;00m\n\u001b[0;32m     32\u001b[0m     \u001b[38;5;28;01mfor\u001b[39;00m class_id \u001b[38;5;129;01min\u001b[39;00m split_counts\u001b[38;5;241m.\u001b[39mindex:\n",
      "Cell \u001b[1;32mIn[5], line 16\u001b[0m, in \u001b[0;36mcollect_class_counts\u001b[1;34m(split)\u001b[0m\n\u001b[0;32m     13\u001b[0m split_dir \u001b[38;5;241m=\u001b[39m os\u001b[38;5;241m.\u001b[39mpath\u001b[38;5;241m.\u001b[39mjoin(base_dir, split)\n\u001b[0;32m     14\u001b[0m class_ids \u001b[38;5;241m=\u001b[39m []\n\u001b[1;32m---> 16\u001b[0m \u001b[38;5;28;01mfor\u001b[39;00m label_file \u001b[38;5;129;01min\u001b[39;00m os\u001b[38;5;241m.\u001b[39mlistdir(split_dir):\n\u001b[0;32m     17\u001b[0m     \u001b[38;5;28;01mif\u001b[39;00m label_file\u001b[38;5;241m.\u001b[39mendswith(\u001b[38;5;124m'\u001b[39m\u001b[38;5;124m.txt\u001b[39m\u001b[38;5;124m'\u001b[39m):\n\u001b[0;32m     18\u001b[0m         \u001b[38;5;28;01mwith\u001b[39;00m \u001b[38;5;28mopen\u001b[39m(os\u001b[38;5;241m.\u001b[39mpath\u001b[38;5;241m.\u001b[39mjoin(split_dir, label_file), \u001b[38;5;124m'\u001b[39m\u001b[38;5;124mr\u001b[39m\u001b[38;5;124m'\u001b[39m) \u001b[38;5;28;01mas\u001b[39;00m file:\n",
      "\u001b[1;31mFileNotFoundError\u001b[0m: [WinError 3] 지정된 경로를 찾을 수 없습니다: '/content/drive/MyDrive/yolo11data/unzipped_files/yolo_split\\\\train'"
     ]
    }
   ],
   "source": [
    "import os\n",
    "import pandas as pd\n",
    "import plotly.express as px\n",
    "\n",
    "# 데이터가 저장된 상위 디렉터리 경로\n",
    "base_dir = '/content/drive/MyDrive/yolo11data/unzipped_files/yolo_split'  # train, val, test 폴더가 포함된 경로\n",
    "\n",
    "# 클래스 분포를 저장할 리스트 초기화\n",
    "data = []\n",
    "\n",
    "# 각 데이터셋 폴더별로 클래스 카운트를 수집하는 함수\n",
    "def collect_class_counts(split):\n",
    "    split_dir = os.path.join(base_dir, split)\n",
    "    class_ids = []\n",
    "\n",
    "    for label_file in os.listdir(split_dir):\n",
    "        if label_file.endswith('.txt'):\n",
    "            with open(os.path.join(split_dir, label_file), 'r') as file:\n",
    "                for line in file:\n",
    "                    if line.strip():  # 비어 있지 않은 줄만 처리\n",
    "                        class_id = line.split()[0]  # 클래스 ID는 각 줄의 첫 번째 값\n",
    "                        class_ids.append(class_id)\n",
    "\n",
    "    # 클래스별 카운트 계산\n",
    "    return pd.Series(class_ids).value_counts()\n",
    "\n",
    "# 각 폴더(train, val, test)의 클래스 카운트 수집\n",
    "for split in ['train', 'val', 'test']:\n",
    "    split_counts = collect_class_counts(split)\n",
    "\n",
    "    # 데이터프레임에 클래스 ID와 해당 카운트 추가\n",
    "    for class_id in split_counts.index:\n",
    "        data.append({'class_id': class_id, 'count': split_counts[class_id], 'split': split})\n",
    "\n",
    "# 최종 데이터프레임 생성\n",
    "df = pd.DataFrame(data)\n",
    "\n",
    "# 클래스 ID를 정수형으로 변환 후 정렬\n",
    "df['class_id'] = df['class_id'].astype(int)\n",
    "\n",
    "# 각 split의 총 카운트 계산\n",
    "total_counts = df.groupby('split')['count'].transform('sum')\n",
    "\n",
    "# 비율 계산\n",
    "df['ratio'] = df['count'] / total_counts\n",
    "\n",
    "# 클래스 순서대로 정렬\n",
    "df = df.sort_values('class_id')\n",
    "\n",
    "# Plotly를 이용한 시각화\n",
    "fig = px.bar(df, x='class_id', y='ratio', color='split',\n",
    "             title='Class Distribution Ratios Across Train, Val, and Test Sets',\n",
    "             labels={'ratio': 'Ratio', 'class_id': 'Class ID'},\n",
    "             barmode='group')\n",
    "fig.update_layout(xaxis=dict(tickangle=45), yaxis_tickformat='%')  # x축 레이블 각도 조정 및 y축 비율 포맷\n",
    "fig.show()\n"
   ]
  },
  {
   "cell_type": "code",
   "execution_count": 6,
   "metadata": {
    "colab": {
     "base_uri": "https://localhost:8080/",
     "height": 423
    },
    "executionInfo": {
     "elapsed": 485,
     "status": "ok",
     "timestamp": 1730445564515,
     "user": {
      "displayName": "heejung choo",
      "userId": "08423628578861440795"
     },
     "user_tz": -540
    },
    "id": "Mm5eVSdslOKg",
    "outputId": "b2d99d8f-5a96-4a92-c7af-2d9c094aebb3"
   },
   "outputs": [
    {
     "ename": "NameError",
     "evalue": "name 'df' is not defined",
     "output_type": "error",
     "traceback": [
      "\u001b[1;31m---------------------------------------------------------------------------\u001b[0m",
      "\u001b[1;31mNameError\u001b[0m                                 Traceback (most recent call last)",
      "Cell \u001b[1;32mIn[6], line 1\u001b[0m\n\u001b[1;32m----> 1\u001b[0m df\n",
      "\u001b[1;31mNameError\u001b[0m: name 'df' is not defined"
     ]
    }
   ],
   "source": [
    "df"
   ]
  },
  {
   "cell_type": "code",
   "execution_count": null,
   "metadata": {
    "id": "5Fq0FZjxl9Fh"
   },
   "outputs": [],
   "source": []
  },
  {
   "cell_type": "code",
   "execution_count": null,
   "metadata": {},
   "outputs": [],
   "source": []
  },
  {
   "cell_type": "code",
   "execution_count": null,
   "metadata": {},
   "outputs": [],
   "source": []
  }
 ],
 "metadata": {
  "colab": {
   "authorship_tag": "ABX9TyN8ACHAUqVl9CBtj5UD/3ft",
   "mount_file_id": "1h4LkcNlSH9dyT5NC_Nf7PZ1gsHKUN_br",
   "provenance": []
  },
  "kernelspec": {
   "display_name": "Python 3 (ipykernel)",
   "language": "python",
   "name": "python3"
  },
  "language_info": {
   "codemirror_mode": {
    "name": "ipython",
    "version": 3
   },
   "file_extension": ".py",
   "mimetype": "text/x-python",
   "name": "python",
   "nbconvert_exporter": "python",
   "pygments_lexer": "ipython3",
   "version": "3.11.7"
  }
 },
 "nbformat": 4,
 "nbformat_minor": 4
}
