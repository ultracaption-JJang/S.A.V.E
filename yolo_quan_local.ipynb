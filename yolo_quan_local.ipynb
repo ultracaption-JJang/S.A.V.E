{
 "cells": [
  {
   "cell_type": "code",
   "execution_count": 1,
   "id": "c17d1385-7ed4-4b76-ae8e-1bce477eb332",
   "metadata": {},
   "outputs": [],
   "source": [
    "import gc"
   ]
  },
  {
   "cell_type": "code",
   "execution_count": 1,
   "id": "2d6078dd-cf88-4cf2-b9c5-25ef6dbc3c02",
   "metadata": {},
   "outputs": [
    {
     "name": "stdout",
     "output_type": "stream",
     "text": [
      "0.18.5\n"
     ]
    }
   ],
   "source": [
    "import wandb\n",
    "print(wandb.__version__)"
   ]
  },
  {
   "cell_type": "code",
   "execution_count": 2,
   "id": "790d16c9-587b-4165-96f4-aa6c83429013",
   "metadata": {},
   "outputs": [
    {
     "name": "stdout",
     "output_type": "stream",
     "text": [
      "2.5.1\n",
      "0.20.1\n"
     ]
    }
   ],
   "source": [
    "import torch\n",
    "import torchvision\n",
    "\n",
    "print(torch.__version__)\n",
    "print(torchvision.__version__)"
   ]
  },
  {
   "cell_type": "code",
   "execution_count": 3,
   "id": "bdc3c224-f1c9-4d94-9e2e-a726fb8db06a",
   "metadata": {},
   "outputs": [
    {
     "name": "stdout",
     "output_type": "stream",
     "text": [
      "True\n"
     ]
    }
   ],
   "source": [
    "import torch\n",
    "print(torch.cuda.is_available())  # True여야 GPU 사용 가능"
   ]
  },
  {
   "cell_type": "code",
   "execution_count": 4,
   "id": "26824269-7861-4759-9776-2206012d4d4a",
   "metadata": {},
   "outputs": [],
   "source": [
    "import wandb\n",
    "from ultralytics import YOLO\n",
    "import torch\n",
    "from torch.quantization import quantize_dynamic"
   ]
  },
  {
   "cell_type": "code",
   "execution_count": 5,
   "id": "0e7c3352-6636-4fa9-9b38-1070a2c48d6f",
   "metadata": {},
   "outputs": [],
   "source": [
    "import os\n",
    "os.environ[\"WANDB_NOTEBOOK_NAME\"] = \"yolo_quan_local.ipynb\""
   ]
  },
  {
   "cell_type": "code",
   "execution_count": null,
   "id": "8c4d0d1a-e6ee-4157-ad73-d2d7adeff22f",
   "metadata": {},
   "outputs": [],
   "source": [
    "# WandB에 로그인\n",
    "wandb.login(key='debec7acbfa814ac1d35013a84ac13808d992cd0')"
   ]
  },
  {
   "cell_type": "code",
   "execution_count": null,
   "id": "828ad47d-ee6d-406c-b87d-1a651cafa033",
   "metadata": {},
   "outputs": [],
   "source": [
    "# Sweep 구성설정\n",
    "sweep_config = {\n",
    "    'name': 'yolo_sweep',\n",
    "    'method': 'bayes',  # 또는 \"grid\"를 사용할 수 있습니다.\n",
    "    'metric': {'name': 'box_loss', 'goal': 'minimize'},\n",
    "    'parameters': {\n",
    "        'batch_size': {'values': [16, 32]}, # 64 x\n",
    "        'learning_rate': {'min': 1e-5, 'max': 1e-2},\n",
    "        'epochs': {'values': [10, 20, 30, 40, 50]},\n",
    "        \"patience\": {\"value\": 3}  # Early stopping을 위한 patience 추가\n",
    "    }\n",
    "}\n",
    "\n",
    "# Sweep ID 생성\n",
    "sweep_id = wandb.sweep(sweep_config, project=\"yolo11_re\")\n",
    "\n",
    "def train():\n",
    "    # WandB 초기화\n",
    "    wandb.init(project=\"yolo11_re\", entity=\"icejoy000524-student\")\n",
    "\n",
    "    # Sweep 매개변수 가져오기\n",
    "    config = wandb.config\n",
    "\n",
    "    # YOLOv11 모델 로드\n",
    "    model = YOLO(\"yolo11n.pt\")  # YOLOv11 모델 가중치 파일 경로\n",
    "\n",
    "    best_mAP = 0\n",
    "    epochs_without_improvement = 0\n",
    "\n",
    "    # 훈련 설정\n",
    "    for epoch in range(config.epochs):\n",
    "        train_results = model.train(\n",
    "            data=\"C:/Users/희정/NIPAPROJECT/yolodata/yolo_split/yolo.yaml\",  # 데이터셋 YAML 파일 경로\n",
    "            epochs=1,  # 에포크 수를 1로 설정하여 for 루프에서 개별적으로 훈련\n",
    "            imgsz=416,  # 이미지 크기 640->416\n",
    "            batch=config.batch_size,  # Sweep에서 정의한 배치 사이즈\n",
    "            lr0=config.learning_rate,\n",
    "            device=\"cuda\" if torch.cuda.is_available() else \"cpu\",  # 사용 가능한 장치\n",
    "        )\n",
    "\n",
    "        # 결과에서 메트릭 값 가져오기\n",
    "        metrics = train_results.results_dict\n",
    "        val_precision = metrics['metrics/precision(B)']  # 정밀도\n",
    "        val_recall = metrics['metrics/recall(B)']        # 재현율\n",
    "        val_map50 = metrics['metrics/mAP50(B)']          # mAP@50\n",
    "        val_map50_95 = metrics['metrics/mAP50-95(B)']    # mAP@50:95\n",
    "        val_fitness = metrics['fitness']                   # fitness score\n",
    "                 \n",
    "        # mAP@50 값을 current_mAP로 사용\n",
    "        current_mAP = val_map50 \n",
    "\n",
    "        # WandB에 메트릭 기록\n",
    "        wandb.log({\n",
    "            \"epoch\": epoch,\n",
    "            \"val_precision\": val_precision,\n",
    "            \"val_recall\": val_recall,\n",
    "            \"val_map50\": val_map50,\n",
    "            \"val_map50_95\": val_map50_95,\n",
    "            \"val_fitness\": val_fitness,\n",
    "            \"val_map\": current_mAP\n",
    "        })\n",
    "\n",
    "\n",
    "        # Early stopping 로직\n",
    "        if current_mAP > best_mAP:\n",
    "            best_mAP = current_mAP\n",
    "            epochs_without_improvement = 0  # 성능 개선 시 카운트 초기화\n",
    "\n",
    "            print(f\"New best mAP: {best_mAP} at epoch {epoch}\")\n",
    "            \n",
    "            model_filename = f\"best_yolo_model_{wandb.run.id}.pt\"\n",
    "            wandb.save(model_filename)   # WandB에 모델 업로드\n",
    "            \n",
    "        else:\n",
    "            epochs_without_improvement += 1\n",
    "            print(f\"No improvement in mAP for {epochs_without_improvement} epochs.\")\n",
    "\n",
    "            if epochs_without_improvement >= config.patience:\n",
    "                print(f\"Early stopping triggered after {epochs_without_improvement} epochs without improvement.\")\n",
    "                break  # 훈련 종료\n",
    "\n",
    "        # GPU 메모리 해제\n",
    "        torch.cuda.empty_cache()\n",
    "        gc.collect()  # 가비지 컬렉션으로 CPU 메모리 비우기\n",
    "\n",
    "    # WandB 훈련 완료 로그 기록\n",
    "    wandb.finish()\n",
    "\n",
    "# Sweep 에이전트 실행\n",
    "wandb.agent(sweep_id, function=train, count=10)"
   ]
  }
 ],
 "metadata": {
  "kernelspec": {
   "display_name": "torch-cuda",
   "language": "python",
   "name": "torch-cuda"
  },
  "language_info": {
   "codemirror_mode": {
    "name": "ipython",
    "version": 3
   },
   "file_extension": ".py",
   "mimetype": "text/x-python",
   "name": "python",
   "nbconvert_exporter": "python",
   "pygments_lexer": "ipython3",
   "version": "3.10.15"
  }
 },
 "nbformat": 4,
 "nbformat_minor": 5
}
